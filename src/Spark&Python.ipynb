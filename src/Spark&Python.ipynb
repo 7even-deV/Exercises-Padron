{
 "cells": [
  {
   "cell_type": "code",
   "execution_count": 272,
   "id": "ecf26900",
   "metadata": {},
   "outputs": [],
   "source": [
    "import findspark\n",
    "findspark.init()\n",
    "\n",
    "from pyspark.sql import SparkSession\n",
    "from pyspark.sql.window import Window\n",
    "from pyspark.sql.functions import *"
   ]
  },
  {
   "cell_type": "code",
   "execution_count": 273,
   "id": "4dd7689b",
   "metadata": {},
   "outputs": [],
   "source": [
    "spark = SparkSession.builder.getOrCreate()\n",
    "local_route = \"C:/Users/sergio.fuentes/Developer/IntelliJ/Padron/src/hostPath/\"\n",
    "file_name = \"Rango_Edades_Seccion_202205.csv\"\n",
    "padron_csv = local_route + file_name\n",
    "n_MAX = 5"
   ]
  },
  {
   "cell_type": "code",
   "execution_count": 274,
   "id": "d65b70d4",
   "metadata": {},
   "outputs": [],
   "source": [
    "padron = spark.read.format(\"csv\")\\\n",
    "    .option(\"header\", \"true\")\\\n",
    "    .option(\"inferschema\", \"true\")\\\n",
    "    .option(\"emptyValue\", 0)\\\n",
    "    .option(\"delimiter\", \";\")\\\n",
    ".load(padron_csv)"
   ]
  },
  {
   "cell_type": "code",
   "execution_count": 275,
   "id": "64f2f852",
   "metadata": {},
   "outputs": [],
   "source": [
    "padron2 = padron.withColumn(\"DESC_DISTRITO\", trim(col(\"desc_distrito\")))\\\n",
    "    .withColumn(\"DESC_BARRIO\", trim(col(\"desc_barrio\")))"
   ]
  },
  {
   "cell_type": "code",
   "execution_count": 276,
   "id": "c278e730",
   "metadata": {},
   "outputs": [],
   "source": [
    "padron_mal = spark.read.format(\"csv\")\\\n",
    "    .option(\"header\",\"true\")\\\n",
    "    .option(\"inferschema\",\"true\")\\\n",
    "    .option(\"delimiter\",\";\")\\\n",
    ".load(padron_csv)"
   ]
  },
  {
   "cell_type": "code",
   "execution_count": 277,
   "id": "ee07a651",
   "metadata": {},
   "outputs": [],
   "source": [
    "padron_cambiado = padron_mal.na.fill(value=0)\\\n",
    "    .withColumn(\"DESC_DISTRITO\", trim(col(\"desc_distrito\")))\\\n",
    "    .withColumn(\"DESC_BARRIO\", trim(col(\"desc_barrio\")))"
   ]
  },
  {
   "cell_type": "code",
   "execution_count": 278,
   "id": "dc171a85",
   "metadata": {},
   "outputs": [
    {
     "name": "stdout",
     "output_type": "stream",
     "text": [
      "+---------+\n",
      "|n_barrios|\n",
      "+---------+\n",
      "|      131|\n",
      "+---------+\n",
      "\n"
     ]
    }
   ],
   "source": [
    "padron2.select(countDistinct(\"desc_barrio\").alias(\"n_barrios\")).show(n_MAX)"
   ]
  },
  {
   "cell_type": "code",
   "execution_count": 279,
   "id": "4673f465",
   "metadata": {},
   "outputs": [
    {
     "name": "stdout",
     "output_type": "stream",
     "text": [
      "+---------+\n",
      "|n_barrios|\n",
      "+---------+\n",
      "|      131|\n",
      "+---------+\n",
      "\n"
     ]
    }
   ],
   "source": [
    "padron_cambiado.createOrReplaceTempView(\"padron\")\n",
    "\n",
    "spark.sql(\"select count(distinct(desc_barrio)) as n_barrios from padron\").show(n_MAX)"
   ]
  },
  {
   "cell_type": "code",
   "execution_count": 280,
   "id": "2689d57f",
   "metadata": {},
   "outputs": [],
   "source": [
    "padron3 = padron_cambiado.withColumn(\"longitud\", length(col(\"desc_distrito\")))"
   ]
  },
  {
   "cell_type": "code",
   "execution_count": 281,
   "id": "e7f5f791",
   "metadata": {},
   "outputs": [
    {
     "name": "stdout",
     "output_type": "stream",
     "text": [
      "+------------+-------------+---------------+-----------+----------+----------------+-----------+------------+----------------+----------------+------------------+------------------+--------+------+\n",
      "|COD_DISTRITO|DESC_DISTRITO|COD_DIST_BARRIO|DESC_BARRIO|COD_BARRIO|COD_DIST_SECCION|COD_SECCION|COD_EDAD_INT|EspanolesHombres|EspanolesMujeres|ExtranjerosHombres|ExtranjerosMujeres|longitud|valor5|\n",
      "+------------+-------------+---------------+-----------+----------+----------------+-----------+------------+----------------+----------------+------------------+------------------+--------+------+\n",
      "|           1|       CENTRO|            101|    PALACIO|         1|            1001|          1|           0|               3|               2|                 0|                 0|       6|     5|\n",
      "|           1|       CENTRO|            101|    PALACIO|         1|            1001|          1|           1|               4|               2|                 1|                 0|       6|     5|\n",
      "|           1|       CENTRO|            101|    PALACIO|         1|            1001|          1|           2|               3|               2|                 2|                 3|       6|     5|\n",
      "|           1|       CENTRO|            101|    PALACIO|         1|            1001|          1|           3|               3|               1|                 0|                 1|       6|     5|\n",
      "|           1|       CENTRO|            101|    PALACIO|         1|            1001|          1|           4|               3|               1|                 1|                 1|       6|     5|\n",
      "+------------+-------------+---------------+-----------+----------+----------------+-----------+------------+----------------+----------------+------------------+------------------+--------+------+\n",
      "only showing top 5 rows\n",
      "\n"
     ]
    }
   ],
   "source": [
    "padron4 = padron3.withColumn(\"valor5\", lit(5))  \n",
    "padron4.show(n_MAX)"
   ]
  },
  {
   "cell_type": "code",
   "execution_count": 282,
   "id": "b4eca818",
   "metadata": {},
   "outputs": [
    {
     "name": "stdout",
     "output_type": "stream",
     "text": [
      "+------------+-------------+---------------+-----------+----------+----------------+-----------+------------+----------------+----------------+------------------+------------------+--------+\n",
      "|COD_DISTRITO|DESC_DISTRITO|COD_DIST_BARRIO|DESC_BARRIO|COD_BARRIO|COD_DIST_SECCION|COD_SECCION|COD_EDAD_INT|EspanolesHombres|EspanolesMujeres|ExtranjerosHombres|ExtranjerosMujeres|longitud|\n",
      "+------------+-------------+---------------+-----------+----------+----------------+-----------+------------+----------------+----------------+------------------+------------------+--------+\n",
      "|           1|       CENTRO|            101|    PALACIO|         1|            1001|          1|           0|               3|               2|                 0|                 0|       6|\n",
      "|           1|       CENTRO|            101|    PALACIO|         1|            1001|          1|           1|               4|               2|                 1|                 0|       6|\n",
      "|           1|       CENTRO|            101|    PALACIO|         1|            1001|          1|           2|               3|               2|                 2|                 3|       6|\n",
      "|           1|       CENTRO|            101|    PALACIO|         1|            1001|          1|           3|               3|               1|                 0|                 1|       6|\n",
      "|           1|       CENTRO|            101|    PALACIO|         1|            1001|          1|           4|               3|               1|                 1|                 1|       6|\n",
      "+------------+-------------+---------------+-----------+----------+----------------+-----------+------------+----------------+----------------+------------------+------------------+--------+\n",
      "only showing top 5 rows\n",
      "\n"
     ]
    }
   ],
   "source": [
    "padron5 = padron4.drop(col(\"valor5\"))\n",
    "padron5.show(n_MAX)"
   ]
  },
  {
   "cell_type": "code",
   "execution_count": 283,
   "id": "6716fae9",
   "metadata": {},
   "outputs": [],
   "source": [
    "padron_particionado = padron5.repartition(col(\"DESC_DISTRITO\"), col(\"DESC_BARRIO\"))"
   ]
  },
  {
   "cell_type": "code",
   "execution_count": 284,
   "id": "1fedc4c2",
   "metadata": {},
   "outputs": [
    {
     "data": {
      "text/plain": [
       "DataFrame[COD_DISTRITO: int, DESC_DISTRITO: string, COD_DIST_BARRIO: int, DESC_BARRIO: string, COD_BARRIO: int, COD_DIST_SECCION: int, COD_SECCION: int, COD_EDAD_INT: int, EspanolesHombres: int, EspanolesMujeres: int, ExtranjerosHombres: int, ExtranjerosMujeres: int, longitud: int]"
      ]
     },
     "execution_count": 284,
     "metadata": {},
     "output_type": "execute_result"
    }
   ],
   "source": [
    "padron_particionado.cache()"
   ]
  },
  {
   "cell_type": "code",
   "execution_count": 285,
   "id": "02aa0e53",
   "metadata": {},
   "outputs": [
    {
     "name": "stdout",
     "output_type": "stream",
     "text": [
      "+-------------+-------------------+----------------+----------------+------------------+------------------+\n",
      "|  desc_barrio|      desc_distrito|espanolesHombres|espanolesMujeres|extranjerosHombres|extranjerosMujeres|\n",
      "+-------------+-------------------+----------------+----------------+------------------+------------------+\n",
      "|       ALUCHE|             LATINA|            5749|            5749|              5749|              5749|\n",
      "| PUEBLO NUEVO|      CIUDAD LINEAL|            4498|            4498|              4498|              4498|\n",
      "|     EL PILAR|FUENCARRAL-EL PARDO|            4366|            4366|              4366|              4366|\n",
      "|  LAS AGUILAS|             LATINA|            4100|            4100|              4100|              4100|\n",
      "|PINAR DEL REY|          HORTALEZA|            4078|            4078|              4078|              4078|\n",
      "+-------------+-------------------+----------------+----------------+------------------+------------------+\n",
      "only showing top 5 rows\n",
      "\n"
     ]
    }
   ],
   "source": [
    "padron_particionado.groupBy(col(\"desc_barrio\"), col(\"desc_distrito\"))\\\n",
    ".agg(count(col(\"espanolesHombres\")).alias(\"espanolesHombres\"),\\\n",
    "    count(col(\"espanolesMujeres\")).alias(\"espanolesMujeres\"),\\\n",
    "    count(col(\"extranjerosHombres\")).alias(\"extranjerosHombres\"),\\\n",
    "    count(col(\"extranjerosMujeres\")).alias(\"extranjerosMujeres\"))\\\n",
    ".orderBy(desc(\"extranjerosMujeres\"), desc(\"extranjerosHombres\"))\\\n",
    ".show(n_MAX)"
   ]
  },
  {
   "cell_type": "code",
   "execution_count": 286,
   "id": "d115a282",
   "metadata": {},
   "outputs": [],
   "source": [
    "spark.catalog.clearCache()"
   ]
  },
  {
   "cell_type": "code",
   "execution_count": 287,
   "id": "a3f191cf",
   "metadata": {},
   "outputs": [],
   "source": [
    "df1 = padron_particionado.select(col(\"DESC_BARRIO\"), col(\"DESC_DISTRITO\"), col(\"ESPANOLESHOMBRES\"))\\\n",
    "    .groupBy(col(\"DESC_BARRIO\"), col(\"DESC_DISTRITO\"))\\\n",
    "    .agg(sum(col(\"ESPANOLESHOMBRES\")).alias(\"ESPANOLESHOMBRES\"))"
   ]
  },
  {
   "cell_type": "code",
   "execution_count": 288,
   "id": "e87e5c4d",
   "metadata": {},
   "outputs": [
    {
     "name": "stdout",
     "output_type": "stream",
     "text": [
      "+-----------+-------------+----------------+------------+-------------+---------------+-----------+----------+----------------+-----------+------------+----------------+----------------+------------------+------------------+\n",
      "|DESC_BARRIO|DESC_DISTRITO|ESPANOLESHOMBRES|COD_DISTRITO|DESC_DISTRITO|COD_DIST_BARRIO|DESC_BARRIO|COD_BARRIO|COD_DIST_SECCION|COD_SECCION|COD_EDAD_INT|EspanolesHombres|EspanolesMujeres|ExtranjerosHombres|ExtranjerosMujeres|\n",
      "+-----------+-------------+----------------+------------+-------------+---------------+-----------+----------+----------------+-----------+------------+----------------+----------------+------------------+------------------+\n",
      "+-----------+-------------+----------------+------------+-------------+---------------+-----------+----------+----------------+-----------+------------+----------------+----------------+------------------+------------------+\n",
      "\n"
     ]
    }
   ],
   "source": [
    "res = df1.join(padron,  (padron.DESC_BARRIO == df1.DESC_BARRIO) &\\\n",
    "       (padron.DESC_DISTRITO == df1.DESC_DISTRITO), \"inner\")\n",
    "res.show()"
   ]
  },
  {
   "cell_type": "code",
   "execution_count": 289,
   "id": "009000cf",
   "metadata": {},
   "outputs": [
    {
     "name": "stdout",
     "output_type": "stream",
     "text": [
      "+------------+--------------------+---------------+--------------------+----------+----------------+-----------+------------+----------------+----------------+------------------+------------------+-----------+\n",
      "|COD_DISTRITO|       DESC_DISTRITO|COD_DIST_BARRIO|         DESC_BARRIO|COD_BARRIO|COD_DIST_SECCION|COD_SECCION|COD_EDAD_INT|EspanolesHombres|EspanolesMujeres|ExtranjerosHombres|ExtranjerosMujeres|TotalEspHom|\n",
      "+------------+--------------------+---------------+--------------------+----------+----------------+-----------+------------+----------------+----------------+------------------+------------------+-----------+\n",
      "|           6|TETUAN              |            605|VALDEACEDERAS       |         5|            6095|         95|          34|               7|               6|                 5|                 4|       9479|\n",
      "|           6|TETUAN              |            605|VALDEACEDERAS       |         5|            6095|         95|          35|               8|               8|                 2|                 3|       9479|\n",
      "|           6|TETUAN              |            605|VALDEACEDERAS       |         5|            6095|         95|          36|               3|               6|                 2|                 3|       9479|\n",
      "|           6|TETUAN              |            605|VALDEACEDERAS       |         5|            6095|         95|          37|               3|              10|                 2|                 1|       9479|\n",
      "|           6|TETUAN              |            605|VALDEACEDERAS       |         5|            6095|         95|          38|              10|               4|                 4|                 1|       9479|\n",
      "+------------+--------------------+---------------+--------------------+----------+----------------+-----------+------------+----------------+----------------+------------------+------------------+-----------+\n",
      "only showing top 5 rows\n",
      "\n"
     ]
    }
   ],
   "source": [
    "padron_ventana = padron.withColumn(\"TotalEspHom\", sum(col(\"espanoleshombres\"))\\\n",
    "    .over(Window.partitionBy(\"DESC_DISTRITO\", \"DESC_BARRIO\")))\n",
    "padron_ventana.show(n_MAX)"
   ]
  },
  {
   "cell_type": "code",
   "execution_count": 290,
   "id": "6e1ba8f9",
   "metadata": {},
   "outputs": [
    {
     "name": "stdout",
     "output_type": "stream",
     "text": [
      "+------------+-------+------+------+\n",
      "|cod_edad_int|BARAJAS|CENTRO|RETIRO|\n",
      "+------------+-------+------+------+\n",
      "|           0|    144|   256|   303|\n",
      "|           1|    151|   237|   315|\n",
      "|           2|    182|   191|   379|\n",
      "|           3|    170|   218|   373|\n",
      "|           4|    196|   229|   414|\n",
      "+------------+-------+------+------+\n",
      "only showing top 5 rows\n",
      "\n"
     ]
    }
   ],
   "source": [
    "distritos = (\"BARAJAS\", \"CENTRO\",\"RETIRO\")\n",
    "\n",
    "padron_pivot = padron_particionado\\\n",
    "    .groupBy(\"cod_edad_int\")\\\n",
    "    .pivot(\"desc_distrito\", distritos)\\\n",
    "    .sum(\"espanolesMujeres\")\\\n",
    "    .orderBy(col(\"cod_edad_int\"))\n",
    "\n",
    "padron_pivot.show(n_MAX)"
   ]
  },
  {
   "cell_type": "code",
   "execution_count": 291,
   "id": "15f3dc75",
   "metadata": {},
   "outputs": [],
   "source": [
    "padron_porcen = padron_pivot.withColumn(\"porcentaje_barajas\", round(col(\"barajas\") / (col(\"barajas\") + col(\"centro\") + col(\"retiro\")) * 100, 2))\\\n",
    "    .withColumn(\"porcentaje_centro\", round(col(\"centro\") / (col(\"barajas\") + col(\"CENTRO\") + col(\"RETIRO\")) * 100, 2))\\\n",
    "    .withColumn(\"porcentaje_retiro\", round(col(\"retiro\") / (col(\"BARAJAS\") + col(\"CENTRO\") + col(\"RETIRO\")) * 100, 2))"
   ]
  },
  {
   "cell_type": "code",
   "execution_count": 292,
   "id": "ebde2d43",
   "metadata": {},
   "outputs": [],
   "source": [
    "padron.write.format(\"csv\")\\\n",
    "    .option(\"header\", \"True\")\\\n",
    "    .mode(\"overwrite\")\\\n",
    "    .partitionBy(\"desc_distrito\", \"desc_barrio\")\\\n",
    "    .save(local_route + \"saveCSV\")"
   ]
  },
  {
   "cell_type": "code",
   "execution_count": null,
   "id": "f2afbf26",
   "metadata": {},
   "outputs": [],
   "source": [
    "padron.write.format(\"parquet\")\\\n",
    "    .mode(\"overwrite\")\\\n",
    "    .partitionBy(\"desc_distrito\", \"desc_barrio\")\\\n",
    "    .save(local_route + \"saveCSV\")"
   ]
  }
 ],
 "metadata": {
  "interpreter": {
   "hash": "ad2bdc8ecc057115af97d19610ffacc2b4e99fae6737bb82f5d7fb13d2f2c186"
  },
  "kernelspec": {
   "display_name": "Python 3 (ipykernel)",
   "language": "python",
   "name": "python3"
  },
  "language_info": {
   "codemirror_mode": {
    "name": "ipython",
    "version": 3
   },
   "file_extension": ".py",
   "mimetype": "text/x-python",
   "name": "python",
   "nbconvert_exporter": "python",
   "pygments_lexer": "ipython3",
   "version": "3.9.7"
  }
 },
 "nbformat": 4,
 "nbformat_minor": 5
}
