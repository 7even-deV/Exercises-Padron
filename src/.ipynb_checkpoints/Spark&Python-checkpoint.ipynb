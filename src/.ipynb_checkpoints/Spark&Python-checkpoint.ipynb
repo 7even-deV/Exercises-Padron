{
 "cells": [
  {
   "cell_type": "code",
   "execution_count": 2,
   "id": "ecf26900",
   "metadata": {},
   "outputs": [],
   "source": [
    "import findspark\n",
    "findspark.init()\n",
    "\n",
    "import pyspark\n",
    "from pyspark.sql import SparkSession\n",
    "\n",
    "from pyspark.sql import SQLContext  \n",
    "from pyspark.sql.functions import * "
   ]
  },
  {
   "cell_type": "code",
   "execution_count": 3,
   "id": "4dd7689b",
   "metadata": {},
   "outputs": [],
   "source": [
    "spark = SparkSession.builder.getOrCreate()\n",
    "padron_csv = \"C:/Users/sergio.fuentes/Developer/IntelliJ/Padron/src/hostPath/Rango_Edades_Seccion_202205.csv\""
   ]
  },
  {
   "cell_type": "code",
   "execution_count": 4,
   "id": "d65b70d4",
   "metadata": {},
   "outputs": [],
   "source": [
    "padron = spark.read.format(\"csv\")\\\n",
    "    .option(\"header\", \"true\")\\\n",
    "    .option(\"inferschema\", \"true\")\\\n",
    "    .option(\"emptyValue\", 0)\\\n",
    "    .option(\"delimiter\", \";\")\\\n",
    ".load(padron_csv)"
   ]
  },
  {
   "cell_type": "code",
   "execution_count": 5,
   "id": "64f2f852",
   "metadata": {},
   "outputs": [],
   "source": [
    "padron2 = padron.withColumn(\"DESC_DISTRITO\", trim(col(\"desc_distrito\")))\\\n",
    "    .withColumn(\"DESC_BARRIO\", trim(col(\"desc_barrio\")))"
   ]
  },
  {
   "cell_type": "code",
   "execution_count": 6,
   "id": "c278e730",
   "metadata": {},
   "outputs": [],
   "source": [
    "padron_mal = spark.read.format(\"csv\")\\\n",
    "    .option(\"header\",\"true\")\\\n",
    "    .option(\"inferschema\",\"true\")\\\n",
    "    .option(\"delimiter\",\";\")\\\n",
    ".load(padron_csv)"
   ]
  },
  {
   "cell_type": "code",
   "execution_count": 7,
   "id": "ee07a651",
   "metadata": {},
   "outputs": [],
   "source": [
    "padron_cambiado = padron_mal.na.fill(value=0)\\\n",
    "    .withColumn(\"DESC_DISTRITO\", trim(col(\"desc_distrito\")))\\\n",
    "    .withColumn(\"DESC_BARRIO\", trim(col(\"desc_barrio\")))"
   ]
  },
  {
   "cell_type": "code",
   "execution_count": 8,
   "id": "dc171a85",
   "metadata": {},
   "outputs": [
    {
     "name": "stdout",
     "output_type": "stream",
     "text": [
      "+---------+\n",
      "|n_barrios|\n",
      "+---------+\n",
      "|      131|\n",
      "+---------+\n",
      "\n"
     ]
    }
   ],
   "source": [
    "padron2.select(countDistinct(\"desc_barrio\").alias(\"n_barrios\")).show()"
   ]
  },
  {
   "cell_type": "code",
   "execution_count": 9,
   "id": "4673f465",
   "metadata": {},
   "outputs": [
    {
     "name": "stdout",
     "output_type": "stream",
     "text": [
      "+---------+\n",
      "|n_barrios|\n",
      "+---------+\n",
      "|      131|\n",
      "+---------+\n",
      "\n"
     ]
    }
   ],
   "source": [
    "padron_cambiado.createOrReplaceTempView(\"padron\")\n",
    "\n",
    "spark.sql(\"select count(distinct(desc_barrio)) as n_barrios from padron\").show()"
   ]
  },
  {
   "cell_type": "code",
   "execution_count": 2,
   "id": "2689d57f",
   "metadata": {},
   "outputs": [
    {
     "ename": "NameError",
     "evalue": "name 'padron_cambiado' is not defined",
     "output_type": "error",
     "traceback": [
      "\u001b[1;31m---------------------------------------------------------------------------\u001b[0m",
      "\u001b[1;31mNameError\u001b[0m                                 Traceback (most recent call last)",
      "\u001b[1;32mC:\\Users\\SERGIO~1.FUE\\AppData\\Local\\Temp/ipykernel_13160/1120758260.py\u001b[0m in \u001b[0;36m<module>\u001b[1;34m\u001b[0m\n\u001b[1;32m----> 1\u001b[1;33m \u001b[0mpadron3\u001b[0m \u001b[1;33m=\u001b[0m \u001b[0mpadron_cambiado\u001b[0m\u001b[1;33m.\u001b[0m\u001b[0mwithColumn\u001b[0m\u001b[1;33m(\u001b[0m\u001b[1;34m\"longitud\"\u001b[0m\u001b[1;33m,\u001b[0m \u001b[0mlength\u001b[0m\u001b[1;33m(\u001b[0m\u001b[0mcol\u001b[0m\u001b[1;33m(\u001b[0m\u001b[1;34m\"desc_distrito\"\u001b[0m\u001b[1;33m)\u001b[0m\u001b[1;33m)\u001b[0m\u001b[1;33m)\u001b[0m\u001b[1;33m\u001b[0m\u001b[1;33m\u001b[0m\u001b[0m\n\u001b[0m\u001b[0;32m      2\u001b[0m \u001b[0mpadron3\u001b[0m\u001b[1;33m.\u001b[0m\u001b[0mshow\u001b[0m\u001b[1;33m(\u001b[0m\u001b[0mn\u001b[0m\u001b[1;33m=\u001b[0m\u001b[1;36m5\u001b[0m\u001b[1;33m,\u001b[0m \u001b[0mtruncate\u001b[0m\u001b[1;33m=\u001b[0m\u001b[1;32mTrue\u001b[0m\u001b[1;33m)\u001b[0m\u001b[1;33m\u001b[0m\u001b[1;33m\u001b[0m\u001b[0m\n",
      "\u001b[1;31mNameError\u001b[0m: name 'padron_cambiado' is not defined"
     ]
    }
   ],
   "source": [
    "padron3 = padron_cambiado.withColumn(\"longitud\", length(col(\"desc_distrito\")))\n",
    "padron3.show(n=5, truncate=True)"
   ]
  },
  {
   "cell_type": "code",
   "execution_count": 13,
   "id": "e7f5f791",
   "metadata": {},
   "outputs": [
    {
     "name": "stdout",
     "output_type": "stream",
     "text": [
      "+------------+-------------+---------------+-----------+----------+----------------+-----------+------------+----------------+----------------+------------------+------------------+--------+------+\n",
      "|COD_DISTRITO|DESC_DISTRITO|COD_DIST_BARRIO|DESC_BARRIO|COD_BARRIO|COD_DIST_SECCION|COD_SECCION|COD_EDAD_INT|EspanolesHombres|EspanolesMujeres|ExtranjerosHombres|ExtranjerosMujeres|longitud|valor5|\n",
      "+------------+-------------+---------------+-----------+----------+----------------+-----------+------------+----------------+----------------+------------------+------------------+--------+------+\n",
      "|           1|       CENTRO|            101|    PALACIO|         1|            1001|          1|           0|               3|               2|                 0|                 0|       6|     5|\n",
      "|           1|       CENTRO|            101|    PALACIO|         1|            1001|          1|           1|               4|               2|                 1|                 0|       6|     5|\n",
      "|           1|       CENTRO|            101|    PALACIO|         1|            1001|          1|           2|               3|               2|                 2|                 3|       6|     5|\n",
      "|           1|       CENTRO|            101|    PALACIO|         1|            1001|          1|           3|               3|               1|                 0|                 1|       6|     5|\n",
      "|           1|       CENTRO|            101|    PALACIO|         1|            1001|          1|           4|               3|               1|                 1|                 1|       6|     5|\n",
      "|           1|       CENTRO|            101|    PALACIO|         1|            1001|          1|           5|               1|               1|                 0|                 1|       6|     5|\n",
      "|           1|       CENTRO|            101|    PALACIO|         1|            1001|          1|           6|               1|               2|                 1|                 1|       6|     5|\n",
      "|           1|       CENTRO|            101|    PALACIO|         1|            1001|          1|           7|               1|               1|                 1|                 0|       6|     5|\n",
      "|           1|       CENTRO|            101|    PALACIO|         1|            1001|          1|           8|               2|               1|                 1|                 1|       6|     5|\n",
      "|           1|       CENTRO|            101|    PALACIO|         1|            1001|          1|           9|               3|               1|                 0|                 1|       6|     5|\n",
      "|           1|       CENTRO|            101|    PALACIO|         1|            1001|          1|          10|               1|               2|                 1|                 1|       6|     5|\n",
      "|           1|       CENTRO|            101|    PALACIO|         1|            1001|          1|          11|               5|               1|                 1|                 0|       6|     5|\n",
      "|           1|       CENTRO|            101|    PALACIO|         1|            1001|          1|          12|               2|               4|                 0|                 0|       6|     5|\n",
      "|           1|       CENTRO|            101|    PALACIO|         1|            1001|          1|          13|               4|               4|                 0|                 0|       6|     5|\n",
      "|           1|       CENTRO|            101|    PALACIO|         1|            1001|          1|          14|               2|               0|                 0|                 2|       6|     5|\n",
      "|           1|       CENTRO|            101|    PALACIO|         1|            1001|          1|          15|               1|               3|                 1|                 0|       6|     5|\n",
      "|           1|       CENTRO|            101|    PALACIO|         1|            1001|          1|          16|               5|               3|                 0|                 0|       6|     5|\n",
      "|           1|       CENTRO|            101|    PALACIO|         1|            1001|          1|          17|               2|               3|                 0|                 1|       6|     5|\n",
      "|           1|       CENTRO|            101|    PALACIO|         1|            1001|          1|          18|               4|               4|                 1|                 0|       6|     5|\n",
      "|           1|       CENTRO|            101|    PALACIO|         1|            1001|          1|          19|               3|               5|                 2|                 2|       6|     5|\n",
      "+------------+-------------+---------------+-----------+----------+----------------+-----------+------------+----------------+----------------+------------------+------------------+--------+------+\n",
      "only showing top 20 rows\n",
      "\n"
     ]
    }
   ],
   "source": [
    "padron4 = padron3.withColumn(\"valor5\", lit(5))  \n",
    "padron4.show()"
   ]
  }
 ],
 "metadata": {
  "interpreter": {
   "hash": "ad2bdc8ecc057115af97d19610ffacc2b4e99fae6737bb82f5d7fb13d2f2c186"
  },
  "kernelspec": {
   "display_name": "Python 3 (ipykernel)",
   "language": "python",
   "name": "python3"
  },
  "language_info": {
   "codemirror_mode": {
    "name": "ipython",
    "version": 3
   },
   "file_extension": ".py",
   "mimetype": "text/x-python",
   "name": "python",
   "nbconvert_exporter": "python",
   "pygments_lexer": "ipython3",
   "version": "3.9.7"
  }
 },
 "nbformat": 4,
 "nbformat_minor": 5
}
